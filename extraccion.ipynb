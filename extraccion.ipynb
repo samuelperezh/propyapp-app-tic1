{
 "cells": [
  {
   "cell_type": "code",
   "execution_count": 1,
   "metadata": {
    "id": "BJrC0_CaLynP"
   },
   "outputs": [],
   "source": [
    "from bs4 import BeautifulSoup\n",
    "import json\n",
    "import pandas as pd\n",
    "import requests\n",
    "import re\n",
    "import time"
   ]
  },
  {
   "cell_type": "code",
   "execution_count": 3,
   "metadata": {
    "colab": {
     "base_uri": "https://localhost:8080/",
     "height": 363
    },
    "id": "t1quIe_Hy-P3",
    "outputId": "711f53ca-fc86-4d87-bb0f-77f868f8847f",
    "tags": []
   },
   "outputs": [],
   "source": [
    "headers = {\n",
    "    \"USER_AGENT\": \"Mozilla/5.0 (X11; Linux x86_64) AppleWebKit/537.36 (KHTML, like Gecko) Ubuntu Chromium/71.0.3578.80 Chrome/71.0.3578.80 Safari/537.36\",\n",
    "    \"referer\": \"https://fincaraiz.com.co/\"\n",
    "}\n",
    "\n",
    "json_data = {\n",
    "    'filter': {\n",
    "        'offer': {\n",
    "            'slug': [\n",
    "                'sell',\n",
    "            ],\n",
    "        },\n",
    "        'is_new': 'False',\n",
    "        'locations': {\n",
    "            'cities': {\n",
    "                'name': ['Medellín']\n",
    "            }\n",
    "        },\n",
    "    },\n",
    "    'fields': {\n",
    "        'exclude': [],\n",
    "        'include': [\n",
    "            'area',\n",
    "            'baths.id',\n",
    "            'baths.name',\n",
    "            'client.client_type',\n",
    "            'client.company_name',\n",
    "            'client.first_name',\n",
    "            'client.last_name',\n",
    "            'garages.name',\n",
    "            'is_new',\n",
    "            'locations.cities.name',\n",
    "            'locations.cities.slug',\n",
    "            'locations.countries.name',\n",
    "            'locations.countries.slug',\n",
    "            'locations.groups.name',\n",
    "            'locations.groups.slug',\n",
    "            'locations.groups.subgroups.name',\n",
    "            'locations.groups.subgroups.slug',\n",
    "            'locations.location_point',\n",
    "            'locations.neighbourhoods.name',\n",
    "            'locations.neighbourhoods.slug',\n",
    "            'locations.states.name',\n",
    "            'locations.states.slug',\n",
    "            'min_area',\n",
    "            'min_price',\n",
    "            'price',\n",
    "            'products.configuration.tag_name',\n",
    "            'products.label',\n",
    "            'products.name',\n",
    "            'products.slug',\n",
    "            'property_id',\n",
    "            'fr_property_id',\n",
    "            'rooms.name',\n",
    "            'title',\n",
    "            'property_type.name',\n",
    "            'offer.name',\n",
    "            'fr_parent_property_id',\n",
    "            'stratum.name',\n",
    "        ],\n",
    "        'limit': 25,\n",
    "        'offset': 0,\n",
    "        'ordering': [],\n",
    "        'platform': 40,\n",
    "        'with_algorithm': False,\n",
    "    }\n",
    "}"
   ]
  },
  {
   "cell_type": "code",
   "execution_count": 4,
   "metadata": {
    "tags": []
   },
   "outputs": [],
   "source": [
    "def obtener_datos(offset):\n",
    "    json_data['fields']['offset'] = offset\n",
    "    response = requests.post('https://api.fincaraiz.com.co/document/api/1.0/listing/search', headers=headers, json=json_data, timeout=10)\n",
    "    data = response.json()\n",
    "    return data.get('hits', {}).get('hits', [])\n",
    "\n",
    "num_paginas = 400 #es la máxima cantidad de páginas que podemos extraer\n",
    "\n",
    "properties_data = []\n",
    "\n",
    "offset = 0\n",
    "\n",
    "for pagina in range(num_paginas):\n",
    "    hits = obtener_datos(offset)\n",
    "\n",
    "    if not hits:\n",
    "        break\n",
    "\n",
    "    for hit in hits:\n",
    "        source = hit['_source']['listing']\n",
    "        property_info = {\n",
    "            'area': source['area'],\n",
    "            'rooms': source['rooms']['name'],\n",
    "            'is_new': source['is_new'],\n",
    "            'property_id': source['property_id'],\n",
    "            'garages': source['garages']['name'],\n",
    "            'stratum': source['stratum']['name'],\n",
    "            'property_type': source['property_type'][0]['name'],\n",
    "            'baths': source['baths']['name'],\n",
    "            'min_price': source['min_price'],\n",
    "            'price': source['price'],\n",
    "            'company_name': source['client']['company_name'],\n",
    "            'client_type': source['client']['client_type'],\n",
    "            'neighbourhood': source['locations']['neighbourhoods'][0]['name'],\n",
    "            'city': source['locations']['cities'][0]['name'],\n",
    "            'latitude': source['locations']['location_point'].split()[1][1:],\n",
    "            'longitude': source['locations']['location_point'].split('(')[1].split()[1].rstrip(')'),\n",
    "            'zone': source['locations'].get('groups', [{'subgroups': {'name': 'No Zone'}}])[0]['subgroups']['name']\n",
    "        }\n",
    "        properties_data.append(property_info)\n",
    "\n",
    "    offset += 25\n",
    "\n",
    "df = pd.DataFrame(properties_data)\n",
    "df.drop_duplicates(subset='property_id', keep='first', inplace=True)"
   ]
  },
  {
   "cell_type": "code",
   "execution_count": 7,
   "metadata": {},
   "outputs": [],
   "source": [
    "df.to_csv('data.csv',index = False)"
   ]
  }
 ],
 "metadata": {
  "colab": {
   "provenance": []
  },
  "kernelspec": {
   "display_name": "Python 3 (ipykernel)",
   "language": "python",
   "name": "python3"
  },
  "language_info": {
   "codemirror_mode": {
    "name": "ipython",
    "version": 3
   },
   "file_extension": ".py",
   "mimetype": "text/x-python",
   "name": "python",
   "nbconvert_exporter": "python",
   "pygments_lexer": "ipython3",
   "version": "3.9.7"
  }
 },
 "nbformat": 4,
 "nbformat_minor": 4
}
